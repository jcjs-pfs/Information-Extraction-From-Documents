{
 "cells": [
  {
   "cell_type": "markdown",
   "metadata": {},
   "source": [
    "[![Open In Colab](https://colab.research.google.com/assets/colab-badge.svg)](https://colab.research.google.com/github/tulasiram58827/Information-Extraction-From-Documents/blob/main/SROIE_Candidate_Generators.ipynb)"
   ]
  },
  {
   "cell_type": "markdown",
   "metadata": {},
   "source": [
    "This notebook pre-process the data and create a dataframe which is then used to create the tensorflow dataset object"
   ]
  },
  {
   "cell_type": "markdown",
   "metadata": {},
   "source": [
    "## Download Data"
   ]
  },
  {
   "cell_type": "markdown",
   "metadata": {
    "id": "ef7kXb3kr8KF"
   },
   "source": [
    "Homepage: https://rrc.cvc.uab.es/?ch=13&com=downloads. "
   ]
  },
  {
   "cell_type": "code",
   "execution_count": 1,
   "metadata": {
    "colab": {
     "base_uri": "https://localhost:8080/"
    },
    "id": "6y3hXNRdQdIl",
    "outputId": "1b9bdcb8-c6be-49ec-fa1d-9ce46a9535e4"
   },
   "outputs": [
    {
     "name": "stdout",
     "output_type": "stream",
     "text": [
      "Downloading...\n",
      "From: https://drive.google.com/uc?id=10r9y17wg8Elo-3Zi61xA_8QDaKix8giN\n",
      "To: /content/data.tar.xz\n",
      "247MB [00:03, 80.4MB/s]\n"
     ]
    }
   ],
   "source": [
    "!gdown --id 10r9y17wg8Elo-3Zi61xA_8QDaKix8giN -O data.tar.xz"
   ]
  },
  {
   "cell_type": "code",
   "execution_count": 2,
   "metadata": {
    "id": "PfYQpEJ2UCnv"
   },
   "outputs": [],
   "source": [
    "!tar -xf data.tar.xz"
   ]
  },
  {
   "cell_type": "markdown",
   "metadata": {},
   "source": [
    "## Imports"
   ]
  },
  {
   "cell_type": "code",
   "execution_count": 3,
   "metadata": {
    "id": "b_WUyewKQzO1"
   },
   "outputs": [],
   "source": [
    "!pip install -q dateparser\n",
    "\n",
    "import dateparser\n",
    "import cv2\n",
    "import glob\n",
    "import json\n",
    "import imutils\n",
    "import numpy as np\n",
    "\n",
    "# https://stackoverflow.com/a/51855662\n",
    "import pandas as pd\n",
    "pd.set_option('display.float_format', lambda x: '%.3f' % x)\n",
    "\n",
    "import matplotlib.pyplot as plt\n",
    "\n",
    "from tqdm import tqdm\n",
    "from imutils import paths\n",
    "from google.colab.patches import cv2_imshow"
   ]
  },
  {
   "cell_type": "markdown",
   "metadata": {},
   "source": [
    "## Data checking"
   ]
  },
  {
   "cell_type": "code",
   "execution_count": 4,
   "metadata": {
    "colab": {
     "base_uri": "https://localhost:8080/"
    },
    "id": "NwgizAuPURdf",
    "outputId": "9e392aff-12d9-4a27-8b56-5462e43a6f09"
   },
   "outputs": [
    {
     "data": {
      "text/plain": [
       "626"
      ]
     },
     "execution_count": 4,
     "metadata": {
      "tags": []
     },
     "output_type": "execute_result"
    }
   ],
   "source": [
    "images = sorted(list(paths.list_images(\"/content/data/img\")))\n",
    "len(images)"
   ]
  },
  {
   "cell_type": "code",
   "execution_count": 5,
   "metadata": {
    "colab": {
     "base_uri": "https://localhost:8080/"
    },
    "id": "-Qa2KgA2UsPl",
    "outputId": "f688b16a-d65b-4cb8-ece3-f4c8b72df5e8"
   },
   "outputs": [
    {
     "data": {
      "text/plain": [
       "626"
      ]
     },
     "execution_count": 5,
     "metadata": {
      "tags": []
     },
     "output_type": "execute_result"
    }
   ],
   "source": [
    "csvs = sorted(glob.glob(\"/content/data/box/*.csv\"))\n",
    "len(csvs)"
   ]
  },
  {
   "cell_type": "code",
   "execution_count": 6,
   "metadata": {
    "colab": {
     "base_uri": "https://localhost:8080/"
    },
    "id": "SbTB_Hu3U2NU",
    "outputId": "b6eb0823-5594-4b1d-85e0-582f3d30a243"
   },
   "outputs": [
    {
     "data": {
      "text/plain": [
       "626"
      ]
     },
     "execution_count": 6,
     "metadata": {
      "tags": []
     },
     "output_type": "execute_result"
    }
   ],
   "source": [
    "jsons = sorted(glob.glob(\"/content/data/key/*.json\"))\n",
    "len(jsons)"
   ]
  },
  {
   "cell_type": "code",
   "execution_count": 133,
   "metadata": {
    "colab": {
     "base_uri": "https://localhost:8080/",
     "height": 204
    },
    "id": "CThwPFFoVL8x",
    "outputId": "8a57063f-63f1-4463-8408-77a7b483f91a"
   },
   "outputs": [
    {
     "data": {
      "text/html": [
       "<div>\n",
       "<style scoped>\n",
       "    .dataframe tbody tr th:only-of-type {\n",
       "        vertical-align: middle;\n",
       "    }\n",
       "\n",
       "    .dataframe tbody tr th {\n",
       "        vertical-align: top;\n",
       "    }\n",
       "\n",
       "    .dataframe thead th {\n",
       "        text-align: right;\n",
       "    }\n",
       "</style>\n",
       "<table border=\"1\" class=\"dataframe\">\n",
       "  <thead>\n",
       "    <tr style=\"text-align: right;\">\n",
       "      <th></th>\n",
       "      <th>x1_1</th>\n",
       "      <th>y1_1</th>\n",
       "      <th>x2_1</th>\n",
       "      <th>y2_1</th>\n",
       "      <th>x3_1</th>\n",
       "      <th>y3_1</th>\n",
       "      <th>x4_1</th>\n",
       "      <th>y4_1</th>\n",
       "      <th>transcript</th>\n",
       "    </tr>\n",
       "  </thead>\n",
       "  <tbody>\n",
       "    <tr>\n",
       "      <th>0</th>\n",
       "      <td>72</td>\n",
       "      <td>25</td>\n",
       "      <td>326</td>\n",
       "      <td>25</td>\n",
       "      <td>326</td>\n",
       "      <td>64</td>\n",
       "      <td>72</td>\n",
       "      <td>64</td>\n",
       "      <td>TAN WOON YANN</td>\n",
       "    </tr>\n",
       "    <tr>\n",
       "      <th>1</th>\n",
       "      <td>50</td>\n",
       "      <td>82</td>\n",
       "      <td>440</td>\n",
       "      <td>82</td>\n",
       "      <td>440</td>\n",
       "      <td>121</td>\n",
       "      <td>50</td>\n",
       "      <td>121</td>\n",
       "      <td>BOOK TA .K(TAMAN DAYA) SDN BND</td>\n",
       "    </tr>\n",
       "    <tr>\n",
       "      <th>2</th>\n",
       "      <td>205</td>\n",
       "      <td>121</td>\n",
       "      <td>285</td>\n",
       "      <td>121</td>\n",
       "      <td>285</td>\n",
       "      <td>139</td>\n",
       "      <td>205</td>\n",
       "      <td>139</td>\n",
       "      <td>789417-W</td>\n",
       "    </tr>\n",
       "    <tr>\n",
       "      <th>3</th>\n",
       "      <td>110</td>\n",
       "      <td>144</td>\n",
       "      <td>383</td>\n",
       "      <td>144</td>\n",
       "      <td>383</td>\n",
       "      <td>163</td>\n",
       "      <td>110</td>\n",
       "      <td>163</td>\n",
       "      <td>NO.53 55</td>\n",
       "    </tr>\n",
       "    <tr>\n",
       "      <th>4</th>\n",
       "      <td>192</td>\n",
       "      <td>169</td>\n",
       "      <td>299</td>\n",
       "      <td>169</td>\n",
       "      <td>299</td>\n",
       "      <td>187</td>\n",
       "      <td>192</td>\n",
       "      <td>187</td>\n",
       "      <td>TAMAN DAYA</td>\n",
       "    </tr>\n",
       "  </tbody>\n",
       "</table>\n",
       "</div>"
      ],
      "text/plain": [
       "   x1_1  y1_1  x2_1  y2_1  ...  y3_1  x4_1  y4_1                      transcript\n",
       "0    72    25   326    25  ...    64    72    64                   TAN WOON YANN\n",
       "1    50    82   440    82  ...   121    50   121  BOOK TA .K(TAMAN DAYA) SDN BND\n",
       "2   205   121   285   121  ...   139   205   139                        789417-W\n",
       "3   110   144   383   144  ...   163   110   163                        NO.53 55\n",
       "4   192   169   299   169  ...   187   192   187                      TAMAN DAYA\n",
       "\n",
       "[5 rows x 9 columns]"
      ]
     },
     "execution_count": 133,
     "metadata": {
      "tags": []
     },
     "output_type": "execute_result"
    }
   ],
   "source": [
    "sample_csv = pd.read_csv(csvs[0], names=[\"x1_1\", \"y1_1\", \"x2_1\", \"y2_1\", \n",
    "                                         \"x3_1\", \"y3_1\", \"x4_1\", \"y4_1\", \"transcript\"])\n",
    "sample_csv.head()"
   ]
  },
  {
   "cell_type": "markdown",
   "metadata": {},
   "source": [
    "## Helper Functions"
   ]
  },
  {
   "cell_type": "markdown",
   "metadata": {},
   "source": [
    "####  Apply Date Candidate Generator"
   ]
  },
  {
   "cell_type": "code",
   "execution_count": 135,
   "metadata": {
    "colab": {
     "base_uri": "https://localhost:8080/",
     "height": 204
    },
    "id": "-an6tdYxNL7V",
    "outputId": "d72764e9-460b-4596-bbfc-a85f1b3469e0"
   },
   "outputs": [
    {
     "data": {
      "text/html": [
       "<div>\n",
       "<style scoped>\n",
       "    .dataframe tbody tr th:only-of-type {\n",
       "        vertical-align: middle;\n",
       "    }\n",
       "\n",
       "    .dataframe tbody tr th {\n",
       "        vertical-align: top;\n",
       "    }\n",
       "\n",
       "    .dataframe thead th {\n",
       "        text-align: right;\n",
       "    }\n",
       "</style>\n",
       "<table border=\"1\" class=\"dataframe\">\n",
       "  <thead>\n",
       "    <tr style=\"text-align: right;\">\n",
       "      <th></th>\n",
       "      <th>x1_1</th>\n",
       "      <th>y1_1</th>\n",
       "      <th>x2_1</th>\n",
       "      <th>y2_1</th>\n",
       "      <th>x3_1</th>\n",
       "      <th>y3_1</th>\n",
       "      <th>x4_1</th>\n",
       "      <th>y4_1</th>\n",
       "      <th>transcript</th>\n",
       "      <th>date_candidate</th>\n",
       "    </tr>\n",
       "  </thead>\n",
       "  <tbody>\n",
       "    <tr>\n",
       "      <th>0</th>\n",
       "      <td>72</td>\n",
       "      <td>25</td>\n",
       "      <td>326</td>\n",
       "      <td>25</td>\n",
       "      <td>326</td>\n",
       "      <td>64</td>\n",
       "      <td>72</td>\n",
       "      <td>64</td>\n",
       "      <td>TAN WOON YANN</td>\n",
       "      <td>NaT</td>\n",
       "    </tr>\n",
       "    <tr>\n",
       "      <th>1</th>\n",
       "      <td>50</td>\n",
       "      <td>82</td>\n",
       "      <td>440</td>\n",
       "      <td>82</td>\n",
       "      <td>440</td>\n",
       "      <td>121</td>\n",
       "      <td>50</td>\n",
       "      <td>121</td>\n",
       "      <td>BOOK TA .K(TAMAN DAYA) SDN BND</td>\n",
       "      <td>NaT</td>\n",
       "    </tr>\n",
       "    <tr>\n",
       "      <th>2</th>\n",
       "      <td>205</td>\n",
       "      <td>121</td>\n",
       "      <td>285</td>\n",
       "      <td>121</td>\n",
       "      <td>285</td>\n",
       "      <td>139</td>\n",
       "      <td>205</td>\n",
       "      <td>139</td>\n",
       "      <td>789417-W</td>\n",
       "      <td>NaT</td>\n",
       "    </tr>\n",
       "    <tr>\n",
       "      <th>3</th>\n",
       "      <td>110</td>\n",
       "      <td>144</td>\n",
       "      <td>383</td>\n",
       "      <td>144</td>\n",
       "      <td>383</td>\n",
       "      <td>163</td>\n",
       "      <td>110</td>\n",
       "      <td>163</td>\n",
       "      <td>NO.53 55</td>\n",
       "      <td>NaT</td>\n",
       "    </tr>\n",
       "    <tr>\n",
       "      <th>4</th>\n",
       "      <td>192</td>\n",
       "      <td>169</td>\n",
       "      <td>299</td>\n",
       "      <td>169</td>\n",
       "      <td>299</td>\n",
       "      <td>187</td>\n",
       "      <td>192</td>\n",
       "      <td>187</td>\n",
       "      <td>TAMAN DAYA</td>\n",
       "      <td>NaT</td>\n",
       "    </tr>\n",
       "  </tbody>\n",
       "</table>\n",
       "</div>"
      ],
      "text/plain": [
       "   x1_1  y1_1  x2_1  ...  y4_1                      transcript  date_candidate\n",
       "0    72    25   326  ...    64                   TAN WOON YANN             NaT\n",
       "1    50    82   440  ...   121  BOOK TA .K(TAMAN DAYA) SDN BND             NaT\n",
       "2   205   121   285  ...   139                        789417-W             NaT\n",
       "3   110   144   383  ...   163                        NO.53 55             NaT\n",
       "4   192   169   299  ...   187                      TAMAN DAYA             NaT\n",
       "\n",
       "[5 rows x 10 columns]"
      ]
     },
     "execution_count": 135,
     "metadata": {
      "tags": []
     },
     "output_type": "execute_result"
    }
   ],
   "source": [
    "def parse_dates(row):\n",
    "    return dateparser.parse(row, settings={'STRICT_PARSING': True, \n",
    "                                           'REQUIRE_PARTS': ['day', 'month', 'year']})\n",
    "\n",
    "sample_csv[\"date_candidate\"] = sample_csv[\"transcript\"].apply(parse_dates)\n",
    "sample_csv[\"date_candidate\"] = pd.to_datetime(sample_csv['date_candidate'], errors = 'coerce').dt.date\n",
    "sample_csv.head(5)"
   ]
  },
  {
   "cell_type": "markdown",
   "metadata": {},
   "source": [
    "#### Apply Total Amount Candidate Generator"
   ]
  },
  {
   "cell_type": "code",
   "execution_count": 136,
   "metadata": {
    "colab": {
     "base_uri": "https://localhost:8080/",
     "height": 204
    },
    "id": "irtP_gS2VanO",
    "outputId": "ca91e923-46ac-4131-eae0-ae1c7c81275b"
   },
   "outputs": [
    {
     "data": {
      "text/html": [
       "<div>\n",
       "<style scoped>\n",
       "    .dataframe tbody tr th:only-of-type {\n",
       "        vertical-align: middle;\n",
       "    }\n",
       "\n",
       "    .dataframe tbody tr th {\n",
       "        vertical-align: top;\n",
       "    }\n",
       "\n",
       "    .dataframe thead th {\n",
       "        text-align: right;\n",
       "    }\n",
       "</style>\n",
       "<table border=\"1\" class=\"dataframe\">\n",
       "  <thead>\n",
       "    <tr style=\"text-align: right;\">\n",
       "      <th></th>\n",
       "      <th>x1_1</th>\n",
       "      <th>y1_1</th>\n",
       "      <th>x2_1</th>\n",
       "      <th>y2_1</th>\n",
       "      <th>x3_1</th>\n",
       "      <th>y3_1</th>\n",
       "      <th>x4_1</th>\n",
       "      <th>y4_1</th>\n",
       "      <th>transcript</th>\n",
       "      <th>date_candidate</th>\n",
       "      <th>total_candidate</th>\n",
       "    </tr>\n",
       "  </thead>\n",
       "  <tbody>\n",
       "    <tr>\n",
       "      <th>2</th>\n",
       "      <td>205</td>\n",
       "      <td>121</td>\n",
       "      <td>285</td>\n",
       "      <td>121</td>\n",
       "      <td>285</td>\n",
       "      <td>139</td>\n",
       "      <td>205</td>\n",
       "      <td>139</td>\n",
       "      <td>789417-W</td>\n",
       "      <td>NaT</td>\n",
       "      <td>nan</td>\n",
       "    </tr>\n",
       "    <tr>\n",
       "      <th>9</th>\n",
       "      <td>165</td>\n",
       "      <td>372</td>\n",
       "      <td>342</td>\n",
       "      <td>372</td>\n",
       "      <td>342</td>\n",
       "      <td>389</td>\n",
       "      <td>165</td>\n",
       "      <td>389</td>\n",
       "      <td>25/12/2018 8:13:39 PM</td>\n",
       "      <td>2018-12-25</td>\n",
       "      <td>nan</td>\n",
       "    </tr>\n",
       "    <tr>\n",
       "      <th>16</th>\n",
       "      <td>276</td>\n",
       "      <td>506</td>\n",
       "      <td>306</td>\n",
       "      <td>506</td>\n",
       "      <td>306</td>\n",
       "      <td>522</td>\n",
       "      <td>276</td>\n",
       "      <td>522</td>\n",
       "      <td>DISC</td>\n",
       "      <td>NaT</td>\n",
       "      <td>nan</td>\n",
       "    </tr>\n",
       "    <tr>\n",
       "      <th>25</th>\n",
       "      <td>202</td>\n",
       "      <td>597</td>\n",
       "      <td>245</td>\n",
       "      <td>597</td>\n",
       "      <td>245</td>\n",
       "      <td>612</td>\n",
       "      <td>202</td>\n",
       "      <td>612</td>\n",
       "      <td>9.000</td>\n",
       "      <td>NaT</td>\n",
       "      <td>9.000</td>\n",
       "    </tr>\n",
       "    <tr>\n",
       "      <th>1</th>\n",
       "      <td>50</td>\n",
       "      <td>82</td>\n",
       "      <td>440</td>\n",
       "      <td>82</td>\n",
       "      <td>440</td>\n",
       "      <td>121</td>\n",
       "      <td>50</td>\n",
       "      <td>121</td>\n",
       "      <td>BOOK TA .K(TAMAN DAYA) SDN BND</td>\n",
       "      <td>NaT</td>\n",
       "      <td>nan</td>\n",
       "    </tr>\n",
       "  </tbody>\n",
       "</table>\n",
       "</div>"
      ],
      "text/plain": [
       "    x1_1  y1_1  ...  date_candidate  total_candidate\n",
       "2    205   121  ...             NaT              nan\n",
       "9    165   372  ...      2018-12-25              nan\n",
       "16   276   506  ...             NaT              nan\n",
       "25   202   597  ...             NaT            9.000\n",
       "1     50    82  ...             NaT              nan\n",
       "\n",
       "[5 rows x 11 columns]"
      ]
     },
     "execution_count": 136,
     "metadata": {
      "tags": []
     },
     "output_type": "execute_result"
    }
   ],
   "source": [
    "sample_csv[\"total_candidate\"] = pd.to_numeric(sample_csv[\"transcript\"], errors=\"coerce\")\n",
    "sample_csv.sample(5)"
   ]
  },
  {
   "cell_type": "code",
   "execution_count": 137,
   "metadata": {
    "id": "w8lE7Jae87wR"
   },
   "outputs": [],
   "source": [
    "temp = np.array([False]*sample_csv.shape[0])\n",
    "for idx, row in sample_csv.iterrows():\n",
    "  text = str(row['transcript']).replace(':', '').lower()\n",
    "  if text in ['total', 'amount', 'balance']:\n",
    "    temp[idx-2:idx+10] = True\n",
    "sample_csv['total_check'] = temp"
   ]
  },
  {
   "cell_type": "code",
   "execution_count": 138,
   "metadata": {
    "colab": {
     "base_uri": "https://localhost:8080/",
     "height": 328
    },
    "id": "WCWOc7JMXyWR",
    "outputId": "1d568e0b-0bfe-4a88-ddb3-14b8c3f144a4"
   },
   "outputs": [
    {
     "data": {
      "text/html": [
       "<div>\n",
       "<style scoped>\n",
       "    .dataframe tbody tr th:only-of-type {\n",
       "        vertical-align: middle;\n",
       "    }\n",
       "\n",
       "    .dataframe tbody tr th {\n",
       "        vertical-align: top;\n",
       "    }\n",
       "\n",
       "    .dataframe thead th {\n",
       "        text-align: right;\n",
       "    }\n",
       "</style>\n",
       "<table border=\"1\" class=\"dataframe\">\n",
       "  <thead>\n",
       "    <tr style=\"text-align: right;\">\n",
       "      <th></th>\n",
       "      <th>x1_1</th>\n",
       "      <th>y1_1</th>\n",
       "      <th>x2_1</th>\n",
       "      <th>y2_1</th>\n",
       "      <th>x3_1</th>\n",
       "      <th>y3_1</th>\n",
       "      <th>x4_1</th>\n",
       "      <th>y4_1</th>\n",
       "      <th>transcript</th>\n",
       "      <th>date_candidate</th>\n",
       "      <th>total_candidate</th>\n",
       "      <th>total_check</th>\n",
       "    </tr>\n",
       "  </thead>\n",
       "  <tbody>\n",
       "    <tr>\n",
       "      <th>9</th>\n",
       "      <td>165</td>\n",
       "      <td>372</td>\n",
       "      <td>342</td>\n",
       "      <td>372</td>\n",
       "      <td>342</td>\n",
       "      <td>389</td>\n",
       "      <td>165</td>\n",
       "      <td>389</td>\n",
       "      <td>25/12/2018 8:13:39 PM</td>\n",
       "      <td>2018-12-25</td>\n",
       "      <td>nan</td>\n",
       "      <td>False</td>\n",
       "    </tr>\n",
       "    <tr>\n",
       "      <th>21</th>\n",
       "      <td>27</td>\n",
       "      <td>570</td>\n",
       "      <td>137</td>\n",
       "      <td>570</td>\n",
       "      <td>137</td>\n",
       "      <td>583</td>\n",
       "      <td>27</td>\n",
       "      <td>583</td>\n",
       "      <td>9556939040116</td>\n",
       "      <td>NaT</td>\n",
       "      <td>9556939040116.000</td>\n",
       "      <td>True</td>\n",
       "    </tr>\n",
       "    <tr>\n",
       "      <th>25</th>\n",
       "      <td>202</td>\n",
       "      <td>597</td>\n",
       "      <td>245</td>\n",
       "      <td>597</td>\n",
       "      <td>245</td>\n",
       "      <td>612</td>\n",
       "      <td>202</td>\n",
       "      <td>612</td>\n",
       "      <td>9.000</td>\n",
       "      <td>NaT</td>\n",
       "      <td>9.000</td>\n",
       "      <td>True</td>\n",
       "    </tr>\n",
       "    <tr>\n",
       "      <th>26</th>\n",
       "      <td>275</td>\n",
       "      <td>598</td>\n",
       "      <td>309</td>\n",
       "      <td>598</td>\n",
       "      <td>309</td>\n",
       "      <td>612</td>\n",
       "      <td>275</td>\n",
       "      <td>612</td>\n",
       "      <td>0.00</td>\n",
       "      <td>NaT</td>\n",
       "      <td>0.000</td>\n",
       "      <td>True</td>\n",
       "    </tr>\n",
       "    <tr>\n",
       "      <th>27</th>\n",
       "      <td>411</td>\n",
       "      <td>596</td>\n",
       "      <td>443</td>\n",
       "      <td>596</td>\n",
       "      <td>443</td>\n",
       "      <td>613</td>\n",
       "      <td>411</td>\n",
       "      <td>613</td>\n",
       "      <td>9.00</td>\n",
       "      <td>NaT</td>\n",
       "      <td>9.000</td>\n",
       "      <td>True</td>\n",
       "    </tr>\n",
       "    <tr>\n",
       "      <th>30</th>\n",
       "      <td>408</td>\n",
       "      <td>669</td>\n",
       "      <td>443</td>\n",
       "      <td>669</td>\n",
       "      <td>443</td>\n",
       "      <td>684</td>\n",
       "      <td>408</td>\n",
       "      <td>684</td>\n",
       "      <td>0.00</td>\n",
       "      <td>NaT</td>\n",
       "      <td>0.000</td>\n",
       "      <td>True</td>\n",
       "    </tr>\n",
       "    <tr>\n",
       "      <th>32</th>\n",
       "      <td>401</td>\n",
       "      <td>703</td>\n",
       "      <td>443</td>\n",
       "      <td>703</td>\n",
       "      <td>443</td>\n",
       "      <td>719</td>\n",
       "      <td>401</td>\n",
       "      <td>719</td>\n",
       "      <td>9.00</td>\n",
       "      <td>NaT</td>\n",
       "      <td>9.000</td>\n",
       "      <td>True</td>\n",
       "    </tr>\n",
       "    <tr>\n",
       "      <th>34</th>\n",
       "      <td>402</td>\n",
       "      <td>748</td>\n",
       "      <td>441</td>\n",
       "      <td>748</td>\n",
       "      <td>441</td>\n",
       "      <td>763</td>\n",
       "      <td>402</td>\n",
       "      <td>763</td>\n",
       "      <td>10.00</td>\n",
       "      <td>NaT</td>\n",
       "      <td>10.000</td>\n",
       "      <td>True</td>\n",
       "    </tr>\n",
       "    <tr>\n",
       "      <th>36</th>\n",
       "      <td>412</td>\n",
       "      <td>772</td>\n",
       "      <td>443</td>\n",
       "      <td>772</td>\n",
       "      <td>443</td>\n",
       "      <td>786</td>\n",
       "      <td>412</td>\n",
       "      <td>786</td>\n",
       "      <td>1.00</td>\n",
       "      <td>NaT</td>\n",
       "      <td>1.000</td>\n",
       "      <td>True</td>\n",
       "    </tr>\n",
       "  </tbody>\n",
       "</table>\n",
       "</div>"
      ],
      "text/plain": [
       "    x1_1  y1_1  x2_1  ...  date_candidate   total_candidate  total_check\n",
       "9    165   372   342  ...      2018-12-25               nan        False\n",
       "21    27   570   137  ...             NaT 9556939040116.000         True\n",
       "25   202   597   245  ...             NaT             9.000         True\n",
       "26   275   598   309  ...             NaT             0.000         True\n",
       "27   411   596   443  ...             NaT             9.000         True\n",
       "30   408   669   443  ...             NaT             0.000         True\n",
       "32   401   703   443  ...             NaT             9.000         True\n",
       "34   402   748   441  ...             NaT            10.000         True\n",
       "36   412   772   443  ...             NaT             1.000         True\n",
       "\n",
       "[9 rows x 12 columns]"
      ]
     },
     "execution_count": 138,
     "metadata": {
      "tags": []
     },
     "output_type": "execute_result"
    }
   ],
   "source": [
    "sample_csv_filtered = sample_csv[(~sample_csv['date_candidate'].isnull()) | (~sample_csv['total_candidate'].isnull() & sample_csv['total_check'])]\n",
    "sample_csv_filtered"
   ]
  },
  {
   "cell_type": "markdown",
   "metadata": {},
   "source": [
    "## Generate Neighbors"
   ]
  },
  {
   "cell_type": "code",
   "execution_count": 139,
   "metadata": {
    "id": "RQu0tzYE_RGA"
   },
   "outputs": [],
   "source": [
    "# Reference : https://www.pyimagesearch.com/2016/11/07/intersection-over-union-iou-for-object-detection/\n",
    "def bb_intersection_over_union(boxA, boxB):\n",
    "    # determine the (x, y)-coordinates of the intersection rectangle\n",
    "    xA = max(boxA[0], boxB[0])\n",
    "    yA = max(boxA[1], boxB[1])\n",
    "    xB = min(boxA[2], boxB[2])\n",
    "    yB = min(boxA[3], boxB[3])\n",
    "    # compute the area of intersection rectangle\n",
    "    interArea = max(0, xB - xA + 1) * max(0, yB - yA + 1)\n",
    "    # compute the area of both the prediction and ground-truth\n",
    "    # rectangles\n",
    "    boxAArea = (boxA[2] - boxA[0] + 1) * (boxA[3] - boxA[1] + 1)\n",
    "    boxBArea = (boxB[2] - boxB[0] + 1) * (boxB[3] - boxB[1] + 1)\n",
    "    # compute the intersection over union by taking the intersection\n",
    "    # area and dividing it by the sum of prediction + ground-truth\n",
    "    # areas - the interesection area\n",
    "    iou = interArea/boxBArea\n",
    "    # return the intersection over union value\n",
    "    return iou"
   ]
  },
  {
   "cell_type": "code",
   "execution_count": 140,
   "metadata": {
    "id": "dUxBPw3S_c1z"
   },
   "outputs": [],
   "source": [
    "def generate_neighbors(orig_csv_df, filt_csv_df, image_shape):\n",
    "    for idx, row in filt_csv_df.iterrows():\n",
    "        # co_ord = [0, row['y1_1']-(10*image_shape[0]/100), row['x3_1'], row['y3_1']]\n",
    "        co_ord = [0, row['ymin']-(10*image_shape[0]/100), row['xmax'], row['ymax']]\n",
    "        # cv2.rectangle(image, (co_ord[0], int(co_ord[1])), (co_ord[2], co_ord[3]),(0, 0, 255), 2)\n",
    "        neighbors = list()\n",
    "        neigh_pos = list()\n",
    "        for new_idx, new_row in orig_csv_df.iterrows():\n",
    "            new_co_ord = [new_row['xmin'], new_row['ymin'], new_row['xmax'], new_row['ymax']]\n",
    "            # cv2.rectangle(image, (new_co_ord[0], int(new_co_ord[1])), (new_co_ord[2], new_co_ord[3]), (0, 0, 255), 2)\n",
    "            area = bb_intersection_over_union(co_ord, new_co_ord)\n",
    "            if area >= 0.5:\n",
    "                # print(row['transcript'], new_row['transcript'])\n",
    "                neighbors.append(new_row['Object'])\n",
    "                xx = abs((new_row['xmax']+new_row['xmin']) - (row['xmax']+row['xmin']))/2\n",
    "                yy = abs((new_row['ymax']+new_row['ymin']) - (row['ymax']+row['ymin']))/2\n",
    "                neigh_pos.append(f\"({'%.3f' % (xx/image_shape[1])},{'%.3f' % (yy/image_shape[0])})\")\n",
    "        neighbors = \"  \".join(str(i) for i in neighbors)\n",
    "        neigh_pos = \"  \".join(str(x) for x in neigh_pos)\n",
    "        filt_csv_df.loc[idx, 'neighbors'] = neighbors\n",
    "        filt_csv_df.loc[idx, 'neigh_pos'] = neigh_pos\n",
    "        filt_csv_df.loc[idx, 'xmin'] = '%.3f' % (new_row['xmin']/image_shape[1])\n",
    "        filt_csv_df.loc[idx, 'xmax'] = '%.3f' % (new_row['xmax']/image_shape[1])\n",
    "        filt_csv_df.loc[idx, 'ymin'] = '%.3f' % (new_row['ymin']/image_shape[0])\n",
    "        filt_csv_df.loc[idx, 'ymax'] = '%.3f' % (new_row['ymax']/image_shape[0])\n",
    "    return filt_csv_df"
   ]
  },
  {
   "cell_type": "code",
   "execution_count": 141,
   "metadata": {
    "id": "Iwb44hAMDxYR"
   },
   "outputs": [],
   "source": [
    "image_shape = cv2.imread(images[0]).shape\n",
    "image_shape\n",
    "image= cv2.imread(images[0])"
   ]
  },
  {
   "cell_type": "code",
   "execution_count": null,
   "metadata": {
    "colab": {
     "base_uri": "https://localhost:8080/"
    },
    "id": "po6DRhZqD5qA",
    "outputId": "adeab92d-2518-4a74-f388-7a7f0543c1de"
   },
   "outputs": [],
   "source": [
    "from google.colab.patches import cv_imshow\n",
    "import numpy as np\n",
    "new_df = generate_neighbors(sample_csv, sample_csv_filtered, image_shape)"
   ]
  },
  {
   "cell_type": "code",
   "execution_count": 143,
   "metadata": {
    "colab": {
     "base_uri": "https://localhost:8080/",
     "height": 204
    },
    "id": "b-ebyobkP6Ch",
    "outputId": "6cad2813-8fc7-4e43-c71c-57bb49f9d7e6"
   },
   "outputs": [
    {
     "data": {
      "text/html": [
       "<div>\n",
       "<style scoped>\n",
       "    .dataframe tbody tr th:only-of-type {\n",
       "        vertical-align: middle;\n",
       "    }\n",
       "\n",
       "    .dataframe tbody tr th {\n",
       "        vertical-align: top;\n",
       "    }\n",
       "\n",
       "    .dataframe thead th {\n",
       "        text-align: right;\n",
       "    }\n",
       "</style>\n",
       "<table border=\"1\" class=\"dataframe\">\n",
       "  <thead>\n",
       "    <tr style=\"text-align: right;\">\n",
       "      <th></th>\n",
       "      <th>x1_1</th>\n",
       "      <th>y1_1</th>\n",
       "      <th>x2_1</th>\n",
       "      <th>y2_1</th>\n",
       "      <th>x3_1</th>\n",
       "      <th>y3_1</th>\n",
       "      <th>x4_1</th>\n",
       "      <th>y4_1</th>\n",
       "      <th>transcript</th>\n",
       "      <th>date_candidate</th>\n",
       "      <th>total_candidate</th>\n",
       "      <th>total_check</th>\n",
       "      <th>neighbors</th>\n",
       "    </tr>\n",
       "  </thead>\n",
       "  <tbody>\n",
       "    <tr>\n",
       "      <th>9</th>\n",
       "      <td>165</td>\n",
       "      <td>372</td>\n",
       "      <td>342</td>\n",
       "      <td>372</td>\n",
       "      <td>342</td>\n",
       "      <td>389</td>\n",
       "      <td>165</td>\n",
       "      <td>389</td>\n",
       "      <td>25/12/2018 8:13:39 PM</td>\n",
       "      <td>2018-12-25</td>\n",
       "      <td>nan</td>\n",
       "      <td>False</td>\n",
       "      <td>7 8 9</td>\n",
       "    </tr>\n",
       "    <tr>\n",
       "      <th>21</th>\n",
       "      <td>27</td>\n",
       "      <td>570</td>\n",
       "      <td>137</td>\n",
       "      <td>570</td>\n",
       "      <td>137</td>\n",
       "      <td>583</td>\n",
       "      <td>27</td>\n",
       "      <td>583</td>\n",
       "      <td>9556939040116</td>\n",
       "      <td>NaT</td>\n",
       "      <td>9556939040116.000</td>\n",
       "      <td>True</td>\n",
       "      <td>14 18 21</td>\n",
       "    </tr>\n",
       "    <tr>\n",
       "      <th>25</th>\n",
       "      <td>202</td>\n",
       "      <td>597</td>\n",
       "      <td>245</td>\n",
       "      <td>597</td>\n",
       "      <td>245</td>\n",
       "      <td>612</td>\n",
       "      <td>202</td>\n",
       "      <td>612</td>\n",
       "      <td>9.000</td>\n",
       "      <td>NaT</td>\n",
       "      <td>9.000</td>\n",
       "      <td>True</td>\n",
       "      <td>14 15 18 19 21 23 24 25</td>\n",
       "    </tr>\n",
       "    <tr>\n",
       "      <th>26</th>\n",
       "      <td>275</td>\n",
       "      <td>598</td>\n",
       "      <td>309</td>\n",
       "      <td>598</td>\n",
       "      <td>309</td>\n",
       "      <td>612</td>\n",
       "      <td>275</td>\n",
       "      <td>612</td>\n",
       "      <td>0.00</td>\n",
       "      <td>NaT</td>\n",
       "      <td>0.000</td>\n",
       "      <td>True</td>\n",
       "      <td>14 15 16 18 19 21 22 23 24 25 26</td>\n",
       "    </tr>\n",
       "    <tr>\n",
       "      <th>27</th>\n",
       "      <td>411</td>\n",
       "      <td>596</td>\n",
       "      <td>443</td>\n",
       "      <td>596</td>\n",
       "      <td>443</td>\n",
       "      <td>613</td>\n",
       "      <td>411</td>\n",
       "      <td>613</td>\n",
       "      <td>9.00</td>\n",
       "      <td>NaT</td>\n",
       "      <td>9.000</td>\n",
       "      <td>True</td>\n",
       "      <td>14 15 16 17 18 19 20 21 22 23 24 25 26 27</td>\n",
       "    </tr>\n",
       "  </tbody>\n",
       "</table>\n",
       "</div>"
      ],
      "text/plain": [
       "    x1_1  y1_1  ...  total_check                                  neighbors\n",
       "9    165   372  ...        False                                      7 8 9\n",
       "21    27   570  ...         True                                   14 18 21\n",
       "25   202   597  ...         True                    14 15 18 19 21 23 24 25\n",
       "26   275   598  ...         True           14 15 16 18 19 21 22 23 24 25 26\n",
       "27   411   596  ...         True  14 15 16 17 18 19 20 21 22 23 24 25 26 27\n",
       "\n",
       "[5 rows x 13 columns]"
      ]
     },
     "execution_count": 143,
     "metadata": {
      "tags": []
     },
     "output_type": "execute_result"
    }
   ],
   "source": [
    "new_df.head()"
   ]
  }
 ],
 "metadata": {
  "colab": {
   "name": "SROIE_Data_Study.ipynb",
   "provenance": []
  },
  "kernelspec": {
   "display_name": "Python 3",
   "language": "python",
   "name": "python3"
  },
  "language_info": {
   "codemirror_mode": {
    "name": "ipython",
    "version": 3
   },
   "file_extension": ".py",
   "mimetype": "text/x-python",
   "name": "python",
   "nbconvert_exporter": "python",
   "pygments_lexer": "ipython3",
   "version": "3.8.3"
  }
 },
 "nbformat": 4,
 "nbformat_minor": 1
}
