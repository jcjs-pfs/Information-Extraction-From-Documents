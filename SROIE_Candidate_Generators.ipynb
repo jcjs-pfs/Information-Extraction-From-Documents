{
  "nbformat": 4,
  "nbformat_minor": 0,
  "metadata": {
    "colab": {
      "name": "SROIE_Data_Study.ipynb",
      "provenance": [],
      "mount_file_id": "1YaDLNni0aKeLH82loSTezQc42TKjEkee",
      "authorship_tag": "ABX9TyNvmlC/18W3l3O8KLcj8brN",
      "include_colab_link": true
    },
    "kernelspec": {
      "name": "python3",
      "display_name": "Python 3"
    }
  },
  "cells": [
    {
      "cell_type": "markdown",
      "metadata": {
        "id": "view-in-github",
        "colab_type": "text"
      },
      "source": [
        "<a href=\"https://colab.research.google.com/github/tulasiram58827/Information-Extraction-From-Documents/blob/main/SROIE_Candidate_Generators.ipynb\" target=\"_parent\"><img src=\"https://colab.research.google.com/assets/colab-badge.svg\" alt=\"Open In Colab\"/></a>"
      ]
    },
    {
      "cell_type": "markdown",
      "metadata": {
        "id": "ef7kXb3kr8KF"
      },
      "source": [
        "Homepage: https://rrc.cvc.uab.es/?ch=13&com=downloads. "
      ]
    },
    {
      "cell_type": "code",
      "metadata": {
        "colab": {
          "base_uri": "https://localhost:8080/"
        },
        "id": "6y3hXNRdQdIl",
        "outputId": "f4a77166-6c96-4da5-d8a5-ec8a1e695e7d"
      },
      "source": [
        "!gdown --id 10r9y17wg8Elo-3Zi61xA_8QDaKix8giN -O data.tar.xz"
      ],
      "execution_count": 1,
      "outputs": [
        {
          "output_type": "stream",
          "text": [
            "Downloading...\n",
            "From: https://drive.google.com/uc?id=10r9y17wg8Elo-3Zi61xA_8QDaKix8giN\n",
            "To: /content/data.tar.xz\n",
            "247MB [00:02, 83.0MB/s]\n"
          ],
          "name": "stdout"
        }
      ]
    },
    {
      "cell_type": "code",
      "metadata": {
        "id": "PfYQpEJ2UCnv"
      },
      "source": [
        "!tar -xf data.tar.xz"
      ],
      "execution_count": 2,
      "outputs": []
    },
    {
      "cell_type": "code",
      "metadata": {
        "id": "b_WUyewKQzO1"
      },
      "source": [
        "import cv2\n",
        "import glob\n",
        "import json\n",
        "import imutils\n",
        "import numpy as np\n",
        "\n",
        "# https://stackoverflow.com/a/51855662\n",
        "import pandas as pd\n",
        "pd.set_option('display.float_format', lambda x: '%.3f' % x)\n",
        "\n",
        "import matplotlib.pyplot as plt\n",
        "\n",
        "from tqdm import tqdm\n",
        "from imutils import paths\n",
        "from google.colab.patches import cv2_imshow"
      ],
      "execution_count": 1,
      "outputs": []
    },
    {
      "cell_type": "code",
      "metadata": {
        "colab": {
          "base_uri": "https://localhost:8080/"
        },
        "id": "NwgizAuPURdf",
        "outputId": "1080bfa6-337a-4197-bb21-bd68e884d0ae"
      },
      "source": [
        "images = sorted(list(paths.list_images(\"/content/data/img\")))\n",
        "len(images)"
      ],
      "execution_count": 2,
      "outputs": [
        {
          "output_type": "execute_result",
          "data": {
            "text/plain": [
              "626"
            ]
          },
          "metadata": {
            "tags": []
          },
          "execution_count": 2
        }
      ]
    },
    {
      "cell_type": "code",
      "metadata": {
        "colab": {
          "base_uri": "https://localhost:8080/"
        },
        "id": "-Qa2KgA2UsPl",
        "outputId": "1f4ba23e-1ab7-4dd1-c789-08dfe74912ab"
      },
      "source": [
        "csvs = sorted(glob.glob(\"/content/data/box/*.csv\"))\n",
        "len(csvs)"
      ],
      "execution_count": 3,
      "outputs": [
        {
          "output_type": "execute_result",
          "data": {
            "text/plain": [
              "626"
            ]
          },
          "metadata": {
            "tags": []
          },
          "execution_count": 3
        }
      ]
    },
    {
      "cell_type": "code",
      "metadata": {
        "colab": {
          "base_uri": "https://localhost:8080/"
        },
        "id": "SbTB_Hu3U2NU",
        "outputId": "59083bbb-75d7-4918-a811-33d55fe9a196"
      },
      "source": [
        "jsons = sorted(glob.glob(\"/content/data/key/*.json\"))\n",
        "len(jsons)"
      ],
      "execution_count": 4,
      "outputs": [
        {
          "output_type": "execute_result",
          "data": {
            "text/plain": [
              "626"
            ]
          },
          "metadata": {
            "tags": []
          },
          "execution_count": 4
        }
      ]
    },
    {
      "cell_type": "code",
      "metadata": {
        "id": "wY6xRkEjVYou",
        "colab": {
          "base_uri": "https://localhost:8080/",
          "height": 35
        },
        "outputId": "673dff41-5d6f-4534-e585-844e8830ebe0"
      },
      "source": [
        "csvs[0]"
      ],
      "execution_count": 5,
      "outputs": [
        {
          "output_type": "execute_result",
          "data": {
            "application/vnd.google.colaboratory.intrinsic+json": {
              "type": "string"
            },
            "text/plain": [
              "'/content/data/box/000.csv'"
            ]
          },
          "metadata": {
            "tags": []
          },
          "execution_count": 5
        }
      ]
    },
    {
      "cell_type": "code",
      "metadata": {
        "colab": {
          "base_uri": "https://localhost:8080/",
          "height": 204
        },
        "id": "CThwPFFoVL8x",
        "outputId": "6f091082-b92e-41e1-9242-36a498a7ab98"
      },
      "source": [
        "sample_csv = pd.read_csv(csvs[0], names=[\"x1_1\", \"y1_1\", \"x2_1\", \"y2_1\", \n",
        "                                         \"x3_1\", \"y3_1\", \"x4_1\", \"y4_1\", \"transcript\"])\n",
        "sample_csv.head()"
      ],
      "execution_count": 6,
      "outputs": [
        {
          "output_type": "execute_result",
          "data": {
            "text/html": [
              "<div>\n",
              "<style scoped>\n",
              "    .dataframe tbody tr th:only-of-type {\n",
              "        vertical-align: middle;\n",
              "    }\n",
              "\n",
              "    .dataframe tbody tr th {\n",
              "        vertical-align: top;\n",
              "    }\n",
              "\n",
              "    .dataframe thead th {\n",
              "        text-align: right;\n",
              "    }\n",
              "</style>\n",
              "<table border=\"1\" class=\"dataframe\">\n",
              "  <thead>\n",
              "    <tr style=\"text-align: right;\">\n",
              "      <th></th>\n",
              "      <th>x1_1</th>\n",
              "      <th>y1_1</th>\n",
              "      <th>x2_1</th>\n",
              "      <th>y2_1</th>\n",
              "      <th>x3_1</th>\n",
              "      <th>y3_1</th>\n",
              "      <th>x4_1</th>\n",
              "      <th>y4_1</th>\n",
              "      <th>transcript</th>\n",
              "    </tr>\n",
              "  </thead>\n",
              "  <tbody>\n",
              "    <tr>\n",
              "      <th>0</th>\n",
              "      <td>72</td>\n",
              "      <td>25</td>\n",
              "      <td>326</td>\n",
              "      <td>25</td>\n",
              "      <td>326</td>\n",
              "      <td>64</td>\n",
              "      <td>72</td>\n",
              "      <td>64</td>\n",
              "      <td>TAN WOON YANN</td>\n",
              "    </tr>\n",
              "    <tr>\n",
              "      <th>1</th>\n",
              "      <td>50</td>\n",
              "      <td>82</td>\n",
              "      <td>440</td>\n",
              "      <td>82</td>\n",
              "      <td>440</td>\n",
              "      <td>121</td>\n",
              "      <td>50</td>\n",
              "      <td>121</td>\n",
              "      <td>BOOK TA .K(TAMAN DAYA) SDN BND</td>\n",
              "    </tr>\n",
              "    <tr>\n",
              "      <th>2</th>\n",
              "      <td>205</td>\n",
              "      <td>121</td>\n",
              "      <td>285</td>\n",
              "      <td>121</td>\n",
              "      <td>285</td>\n",
              "      <td>139</td>\n",
              "      <td>205</td>\n",
              "      <td>139</td>\n",
              "      <td>789417-W</td>\n",
              "    </tr>\n",
              "    <tr>\n",
              "      <th>3</th>\n",
              "      <td>110</td>\n",
              "      <td>144</td>\n",
              "      <td>383</td>\n",
              "      <td>144</td>\n",
              "      <td>383</td>\n",
              "      <td>163</td>\n",
              "      <td>110</td>\n",
              "      <td>163</td>\n",
              "      <td>NO.53 55</td>\n",
              "    </tr>\n",
              "    <tr>\n",
              "      <th>4</th>\n",
              "      <td>192</td>\n",
              "      <td>169</td>\n",
              "      <td>299</td>\n",
              "      <td>169</td>\n",
              "      <td>299</td>\n",
              "      <td>187</td>\n",
              "      <td>192</td>\n",
              "      <td>187</td>\n",
              "      <td>TAMAN DAYA</td>\n",
              "    </tr>\n",
              "  </tbody>\n",
              "</table>\n",
              "</div>"
            ],
            "text/plain": [
              "   x1_1  y1_1  x2_1  y2_1  ...  y3_1  x4_1  y4_1                      transcript\n",
              "0    72    25   326    25  ...    64    72    64                   TAN WOON YANN\n",
              "1    50    82   440    82  ...   121    50   121  BOOK TA .K(TAMAN DAYA) SDN BND\n",
              "2   205   121   285   121  ...   139   205   139                        789417-W\n",
              "3   110   144   383   144  ...   163   110   163                        NO.53 55\n",
              "4   192   169   299   169  ...   187   192   187                      TAMAN DAYA\n",
              "\n",
              "[5 rows x 9 columns]"
            ]
          },
          "metadata": {
            "tags": []
          },
          "execution_count": 6
        }
      ]
    },
    {
      "cell_type": "code",
      "metadata": {
        "id": "hSJOkWFgNLQy"
      },
      "source": [
        "!pip install -q dateparser\n",
        "import dateparser"
      ],
      "execution_count": 7,
      "outputs": []
    },
    {
      "cell_type": "code",
      "metadata": {
        "id": "-an6tdYxNL7V",
        "outputId": "80d15512-fbd4-4162-e0bf-4e64daf0963d",
        "colab": {
          "base_uri": "https://localhost:8080/",
          "height": 204
        }
      },
      "source": [
        "def parse_dates(row):\n",
        "    return dateparser.parse(row, settings={'STRICT_PARSING': True, \n",
        "                                           'REQUIRE_PARTS': ['day', 'month', 'year']})\n",
        "\n",
        "sample_csv[\"date_candidate\"] = sample_csv[\"transcript\"].apply(parse_dates)\n",
        "sample_csv[\"date_candidate\"] = pd.to_datetime(sample_csv['date_candidate'], errors = 'coerce').dt.date\n",
        "sample_csv.sample(5)"
      ],
      "execution_count": 8,
      "outputs": [
        {
          "output_type": "execute_result",
          "data": {
            "text/html": [
              "<div>\n",
              "<style scoped>\n",
              "    .dataframe tbody tr th:only-of-type {\n",
              "        vertical-align: middle;\n",
              "    }\n",
              "\n",
              "    .dataframe tbody tr th {\n",
              "        vertical-align: top;\n",
              "    }\n",
              "\n",
              "    .dataframe thead th {\n",
              "        text-align: right;\n",
              "    }\n",
              "</style>\n",
              "<table border=\"1\" class=\"dataframe\">\n",
              "  <thead>\n",
              "    <tr style=\"text-align: right;\">\n",
              "      <th></th>\n",
              "      <th>x1_1</th>\n",
              "      <th>y1_1</th>\n",
              "      <th>x2_1</th>\n",
              "      <th>y2_1</th>\n",
              "      <th>x3_1</th>\n",
              "      <th>y3_1</th>\n",
              "      <th>x4_1</th>\n",
              "      <th>y4_1</th>\n",
              "      <th>transcript</th>\n",
              "      <th>date_candidate</th>\n",
              "    </tr>\n",
              "  </thead>\n",
              "  <tbody>\n",
              "    <tr>\n",
              "      <th>13</th>\n",
              "      <td>191</td>\n",
              "      <td>460</td>\n",
              "      <td>298</td>\n",
              "      <td>460</td>\n",
              "      <td>298</td>\n",
              "      <td>476</td>\n",
              "      <td>191</td>\n",
              "      <td>476</td>\n",
              "      <td>CASH BILL</td>\n",
              "      <td>NaT</td>\n",
              "    </tr>\n",
              "    <tr>\n",
              "      <th>34</th>\n",
              "      <td>402</td>\n",
              "      <td>748</td>\n",
              "      <td>441</td>\n",
              "      <td>748</td>\n",
              "      <td>441</td>\n",
              "      <td>763</td>\n",
              "      <td>402</td>\n",
              "      <td>763</td>\n",
              "      <td>10.00</td>\n",
              "      <td>NaT</td>\n",
              "    </tr>\n",
              "    <tr>\n",
              "      <th>6</th>\n",
              "      <td>217</td>\n",
              "      <td>216</td>\n",
              "      <td>275</td>\n",
              "      <td>216</td>\n",
              "      <td>275</td>\n",
              "      <td>233</td>\n",
              "      <td>217</td>\n",
              "      <td>233</td>\n",
              "      <td>JOHOR.</td>\n",
              "      <td>NaT</td>\n",
              "    </tr>\n",
              "    <tr>\n",
              "      <th>38</th>\n",
              "      <td>190</td>\n",
              "      <td>864</td>\n",
              "      <td>309</td>\n",
              "      <td>864</td>\n",
              "      <td>309</td>\n",
              "      <td>880</td>\n",
              "      <td>190</td>\n",
              "      <td>880</td>\n",
              "      <td>EXCHANGEABLE</td>\n",
              "      <td>NaT</td>\n",
              "    </tr>\n",
              "    <tr>\n",
              "      <th>23</th>\n",
              "      <td>77</td>\n",
              "      <td>598</td>\n",
              "      <td>113</td>\n",
              "      <td>598</td>\n",
              "      <td>113</td>\n",
              "      <td>613</td>\n",
              "      <td>77</td>\n",
              "      <td>613</td>\n",
              "      <td>1 PC</td>\n",
              "      <td>NaT</td>\n",
              "    </tr>\n",
              "  </tbody>\n",
              "</table>\n",
              "</div>"
            ],
            "text/plain": [
              "    x1_1  y1_1  x2_1  y2_1  x3_1  y3_1  x4_1  y4_1    transcript date_candidate\n",
              "13   191   460   298   460   298   476   191   476     CASH BILL            NaT\n",
              "34   402   748   441   748   441   763   402   763         10.00            NaT\n",
              "6    217   216   275   216   275   233   217   233        JOHOR.            NaT\n",
              "38   190   864   309   864   309   880   190   880  EXCHANGEABLE            NaT\n",
              "23    77   598   113   598   113   613    77   613          1 PC            NaT"
            ]
          },
          "metadata": {
            "tags": []
          },
          "execution_count": 8
        }
      ]
    },
    {
      "cell_type": "code",
      "metadata": {
        "id": "irtP_gS2VanO",
        "outputId": "1879fbf8-7815-4cf4-f492-a30db0e2b240",
        "colab": {
          "base_uri": "https://localhost:8080/",
          "height": 204
        }
      },
      "source": [
        "sample_csv[\"total_candidate\"] = pd.to_numeric(sample_csv[\"transcript\"], errors=\"coerce\")\n",
        "sample_csv.sample(5)"
      ],
      "execution_count": 9,
      "outputs": [
        {
          "output_type": "execute_result",
          "data": {
            "text/html": [
              "<div>\n",
              "<style scoped>\n",
              "    .dataframe tbody tr th:only-of-type {\n",
              "        vertical-align: middle;\n",
              "    }\n",
              "\n",
              "    .dataframe tbody tr th {\n",
              "        vertical-align: top;\n",
              "    }\n",
              "\n",
              "    .dataframe thead th {\n",
              "        text-align: right;\n",
              "    }\n",
              "</style>\n",
              "<table border=\"1\" class=\"dataframe\">\n",
              "  <thead>\n",
              "    <tr style=\"text-align: right;\">\n",
              "      <th></th>\n",
              "      <th>x1_1</th>\n",
              "      <th>y1_1</th>\n",
              "      <th>x2_1</th>\n",
              "      <th>y2_1</th>\n",
              "      <th>x3_1</th>\n",
              "      <th>y3_1</th>\n",
              "      <th>x4_1</th>\n",
              "      <th>y4_1</th>\n",
              "      <th>transcript</th>\n",
              "      <th>date_candidate</th>\n",
              "      <th>total_candidate</th>\n",
              "    </tr>\n",
              "  </thead>\n",
              "  <tbody>\n",
              "    <tr>\n",
              "      <th>20</th>\n",
              "      <td>420</td>\n",
              "      <td>529</td>\n",
              "      <td>443</td>\n",
              "      <td>529</td>\n",
              "      <td>443</td>\n",
              "      <td>547</td>\n",
              "      <td>420</td>\n",
              "      <td>547</td>\n",
              "      <td>RM</td>\n",
              "      <td>NaT</td>\n",
              "      <td>nan</td>\n",
              "    </tr>\n",
              "    <tr>\n",
              "      <th>5</th>\n",
              "      <td>162</td>\n",
              "      <td>193</td>\n",
              "      <td>334</td>\n",
              "      <td>193</td>\n",
              "      <td>334</td>\n",
              "      <td>211</td>\n",
              "      <td>162</td>\n",
              "      <td>211</td>\n",
              "      <td>81100 JOHOR BAHRU</td>\n",
              "      <td>NaT</td>\n",
              "      <td>nan</td>\n",
              "    </tr>\n",
              "    <tr>\n",
              "      <th>43</th>\n",
              "      <td>412</td>\n",
              "      <td>639</td>\n",
              "      <td>442</td>\n",
              "      <td>639</td>\n",
              "      <td>442</td>\n",
              "      <td>654</td>\n",
              "      <td>412</td>\n",
              "      <td>654</td>\n",
              "      <td>9.00</td>\n",
              "      <td>NaT</td>\n",
              "      <td>9.000</td>\n",
              "    </tr>\n",
              "    <tr>\n",
              "      <th>23</th>\n",
              "      <td>77</td>\n",
              "      <td>598</td>\n",
              "      <td>113</td>\n",
              "      <td>598</td>\n",
              "      <td>113</td>\n",
              "      <td>613</td>\n",
              "      <td>77</td>\n",
              "      <td>613</td>\n",
              "      <td>1 PC</td>\n",
              "      <td>NaT</td>\n",
              "      <td>nan</td>\n",
              "    </tr>\n",
              "    <tr>\n",
              "      <th>26</th>\n",
              "      <td>275</td>\n",
              "      <td>598</td>\n",
              "      <td>309</td>\n",
              "      <td>598</td>\n",
              "      <td>309</td>\n",
              "      <td>612</td>\n",
              "      <td>275</td>\n",
              "      <td>612</td>\n",
              "      <td>0.00</td>\n",
              "      <td>NaT</td>\n",
              "      <td>0.000</td>\n",
              "    </tr>\n",
              "  </tbody>\n",
              "</table>\n",
              "</div>"
            ],
            "text/plain": [
              "    x1_1  y1_1  x2_1  ...         transcript  date_candidate  total_candidate\n",
              "20   420   529   443  ...                 RM             NaT              nan\n",
              "5    162   193   334  ...  81100 JOHOR BAHRU             NaT              nan\n",
              "43   412   639   442  ...               9.00             NaT            9.000\n",
              "23    77   598   113  ...               1 PC             NaT              nan\n",
              "26   275   598   309  ...               0.00             NaT            0.000\n",
              "\n",
              "[5 rows x 11 columns]"
            ]
          },
          "metadata": {
            "tags": []
          },
          "execution_count": 9
        }
      ]
    },
    {
      "cell_type": "code",
      "metadata": {
        "id": "WCWOc7JMXyWR",
        "outputId": "3095bc4f-8487-46c2-b77a-cbf657b3b557",
        "colab": {
          "base_uri": "https://localhost:8080/",
          "height": 359
        }
      },
      "source": [
        "sample_csv_filtered = sample_csv[(~sample_csv['date_candidate'].isnull()) | (~sample_csv['total_candidate'].isnull())]\n",
        "sample_csv_filtered"
      ],
      "execution_count": 10,
      "outputs": [
        {
          "output_type": "execute_result",
          "data": {
            "text/html": [
              "<div>\n",
              "<style scoped>\n",
              "    .dataframe tbody tr th:only-of-type {\n",
              "        vertical-align: middle;\n",
              "    }\n",
              "\n",
              "    .dataframe tbody tr th {\n",
              "        vertical-align: top;\n",
              "    }\n",
              "\n",
              "    .dataframe thead th {\n",
              "        text-align: right;\n",
              "    }\n",
              "</style>\n",
              "<table border=\"1\" class=\"dataframe\">\n",
              "  <thead>\n",
              "    <tr style=\"text-align: right;\">\n",
              "      <th></th>\n",
              "      <th>x1_1</th>\n",
              "      <th>y1_1</th>\n",
              "      <th>x2_1</th>\n",
              "      <th>y2_1</th>\n",
              "      <th>x3_1</th>\n",
              "      <th>y3_1</th>\n",
              "      <th>x4_1</th>\n",
              "      <th>y4_1</th>\n",
              "      <th>transcript</th>\n",
              "      <th>date_candidate</th>\n",
              "      <th>total_candidate</th>\n",
              "    </tr>\n",
              "  </thead>\n",
              "  <tbody>\n",
              "    <tr>\n",
              "      <th>9</th>\n",
              "      <td>165</td>\n",
              "      <td>372</td>\n",
              "      <td>342</td>\n",
              "      <td>372</td>\n",
              "      <td>342</td>\n",
              "      <td>389</td>\n",
              "      <td>165</td>\n",
              "      <td>389</td>\n",
              "      <td>25/12/2018 8:13:39 PM</td>\n",
              "      <td>2018-12-25</td>\n",
              "      <td>nan</td>\n",
              "    </tr>\n",
              "    <tr>\n",
              "      <th>21</th>\n",
              "      <td>27</td>\n",
              "      <td>570</td>\n",
              "      <td>137</td>\n",
              "      <td>570</td>\n",
              "      <td>137</td>\n",
              "      <td>583</td>\n",
              "      <td>27</td>\n",
              "      <td>583</td>\n",
              "      <td>9556939040116</td>\n",
              "      <td>NaT</td>\n",
              "      <td>9556939040116.000</td>\n",
              "    </tr>\n",
              "    <tr>\n",
              "      <th>25</th>\n",
              "      <td>202</td>\n",
              "      <td>597</td>\n",
              "      <td>245</td>\n",
              "      <td>597</td>\n",
              "      <td>245</td>\n",
              "      <td>612</td>\n",
              "      <td>202</td>\n",
              "      <td>612</td>\n",
              "      <td>9.000</td>\n",
              "      <td>NaT</td>\n",
              "      <td>9.000</td>\n",
              "    </tr>\n",
              "    <tr>\n",
              "      <th>26</th>\n",
              "      <td>275</td>\n",
              "      <td>598</td>\n",
              "      <td>309</td>\n",
              "      <td>598</td>\n",
              "      <td>309</td>\n",
              "      <td>612</td>\n",
              "      <td>275</td>\n",
              "      <td>612</td>\n",
              "      <td>0.00</td>\n",
              "      <td>NaT</td>\n",
              "      <td>0.000</td>\n",
              "    </tr>\n",
              "    <tr>\n",
              "      <th>27</th>\n",
              "      <td>411</td>\n",
              "      <td>596</td>\n",
              "      <td>443</td>\n",
              "      <td>596</td>\n",
              "      <td>443</td>\n",
              "      <td>613</td>\n",
              "      <td>411</td>\n",
              "      <td>613</td>\n",
              "      <td>9.00</td>\n",
              "      <td>NaT</td>\n",
              "      <td>9.000</td>\n",
              "    </tr>\n",
              "    <tr>\n",
              "      <th>30</th>\n",
              "      <td>408</td>\n",
              "      <td>669</td>\n",
              "      <td>443</td>\n",
              "      <td>669</td>\n",
              "      <td>443</td>\n",
              "      <td>684</td>\n",
              "      <td>408</td>\n",
              "      <td>684</td>\n",
              "      <td>0.00</td>\n",
              "      <td>NaT</td>\n",
              "      <td>0.000</td>\n",
              "    </tr>\n",
              "    <tr>\n",
              "      <th>32</th>\n",
              "      <td>401</td>\n",
              "      <td>703</td>\n",
              "      <td>443</td>\n",
              "      <td>703</td>\n",
              "      <td>443</td>\n",
              "      <td>719</td>\n",
              "      <td>401</td>\n",
              "      <td>719</td>\n",
              "      <td>9.00</td>\n",
              "      <td>NaT</td>\n",
              "      <td>9.000</td>\n",
              "    </tr>\n",
              "    <tr>\n",
              "      <th>34</th>\n",
              "      <td>402</td>\n",
              "      <td>748</td>\n",
              "      <td>441</td>\n",
              "      <td>748</td>\n",
              "      <td>441</td>\n",
              "      <td>763</td>\n",
              "      <td>402</td>\n",
              "      <td>763</td>\n",
              "      <td>10.00</td>\n",
              "      <td>NaT</td>\n",
              "      <td>10.000</td>\n",
              "    </tr>\n",
              "    <tr>\n",
              "      <th>36</th>\n",
              "      <td>412</td>\n",
              "      <td>772</td>\n",
              "      <td>443</td>\n",
              "      <td>772</td>\n",
              "      <td>443</td>\n",
              "      <td>786</td>\n",
              "      <td>412</td>\n",
              "      <td>786</td>\n",
              "      <td>1.00</td>\n",
              "      <td>NaT</td>\n",
              "      <td>1.000</td>\n",
              "    </tr>\n",
              "    <tr>\n",
              "      <th>43</th>\n",
              "      <td>412</td>\n",
              "      <td>639</td>\n",
              "      <td>442</td>\n",
              "      <td>639</td>\n",
              "      <td>442</td>\n",
              "      <td>654</td>\n",
              "      <td>412</td>\n",
              "      <td>654</td>\n",
              "      <td>9.00</td>\n",
              "      <td>NaT</td>\n",
              "      <td>9.000</td>\n",
              "    </tr>\n",
              "  </tbody>\n",
              "</table>\n",
              "</div>"
            ],
            "text/plain": [
              "    x1_1  y1_1  x2_1  ...             transcript  date_candidate   total_candidate\n",
              "9    165   372   342  ...  25/12/2018 8:13:39 PM      2018-12-25               nan\n",
              "21    27   570   137  ...          9556939040116             NaT 9556939040116.000\n",
              "25   202   597   245  ...                  9.000             NaT             9.000\n",
              "26   275   598   309  ...                   0.00             NaT             0.000\n",
              "27   411   596   443  ...                   9.00             NaT             9.000\n",
              "30   408   669   443  ...                   0.00             NaT             0.000\n",
              "32   401   703   443  ...                   9.00             NaT             9.000\n",
              "34   402   748   441  ...                  10.00             NaT            10.000\n",
              "36   412   772   443  ...                   1.00             NaT             1.000\n",
              "43   412   639   442  ...                   9.00             NaT             9.000\n",
              "\n",
              "[10 rows x 11 columns]"
            ]
          },
          "metadata": {
            "tags": []
          },
          "execution_count": 10
        }
      ]
    }
  ]
}