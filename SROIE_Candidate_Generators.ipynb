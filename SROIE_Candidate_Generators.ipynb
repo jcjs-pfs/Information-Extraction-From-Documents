{
  "nbformat": 4,
  "nbformat_minor": 0,
  "metadata": {
    "colab": {
      "name": "SROIE_Data_Study.ipynb",
      "provenance": []
    },
    "kernelspec": {
      "name": "python3",
      "display_name": "Python 3"
    }
  },
  "cells": [
    {
      "cell_type": "markdown",
      "metadata": {
        "id": "ef7kXb3kr8KF"
      },
      "source": [
        "Homepage: https://rrc.cvc.uab.es/?ch=13&com=downloads. "
      ]
    },
    {
      "cell_type": "code",
      "metadata": {
        "colab": {
          "base_uri": "https://localhost:8080/"
        },
        "id": "6y3hXNRdQdIl",
        "outputId": "bb0fe399-e4e6-41de-e218-c50fcd73df69"
      },
      "source": [
        "!gdown --id 10r9y17wg8Elo-3Zi61xA_8QDaKix8giN -O data.tar.xz"
      ],
      "execution_count": 1,
      "outputs": [
        {
          "output_type": "stream",
          "text": [
            "Downloading...\n",
            "From: https://drive.google.com/uc?id=10r9y17wg8Elo-3Zi61xA_8QDaKix8giN\n",
            "To: /content/data.tar.xz\n",
            "247MB [00:01, 139MB/s]\n"
          ],
          "name": "stdout"
        }
      ]
    },
    {
      "cell_type": "code",
      "metadata": {
        "id": "PfYQpEJ2UCnv"
      },
      "source": [
        "!tar -xf data.tar.xz"
      ],
      "execution_count": 2,
      "outputs": []
    },
    {
      "cell_type": "code",
      "metadata": {
        "id": "b_WUyewKQzO1"
      },
      "source": [
        "import cv2\n",
        "import glob\n",
        "import json\n",
        "import imutils\n",
        "import numpy as np\n",
        "\n",
        "# https://stackoverflow.com/a/51855662\n",
        "import pandas as pd\n",
        "pd.set_option('display.float_format', lambda x: '%.3f' % x)\n",
        "\n",
        "import matplotlib.pyplot as plt\n",
        "\n",
        "from tqdm import tqdm\n",
        "from imutils import paths\n",
        "from google.colab.patches import cv2_imshow"
      ],
      "execution_count": 3,
      "outputs": []
    },
    {
      "cell_type": "code",
      "metadata": {
        "colab": {
          "base_uri": "https://localhost:8080/"
        },
        "id": "NwgizAuPURdf",
        "outputId": "8df6c384-6c0a-48c4-832f-0bac4f0dc361"
      },
      "source": [
        "images = sorted(list(paths.list_images(\"/content/data/img\")))\n",
        "len(images)"
      ],
      "execution_count": 4,
      "outputs": [
        {
          "output_type": "execute_result",
          "data": {
            "text/plain": [
              "626"
            ]
          },
          "metadata": {
            "tags": []
          },
          "execution_count": 4
        }
      ]
    },
    {
      "cell_type": "code",
      "metadata": {
        "colab": {
          "base_uri": "https://localhost:8080/"
        },
        "id": "-Qa2KgA2UsPl",
        "outputId": "69947f5a-7361-494f-cba4-838a605e8cb0"
      },
      "source": [
        "csvs = sorted(glob.glob(\"/content/data/box/*.csv\"))\n",
        "len(csvs)"
      ],
      "execution_count": 5,
      "outputs": [
        {
          "output_type": "execute_result",
          "data": {
            "text/plain": [
              "626"
            ]
          },
          "metadata": {
            "tags": []
          },
          "execution_count": 5
        }
      ]
    },
    {
      "cell_type": "code",
      "metadata": {
        "colab": {
          "base_uri": "https://localhost:8080/"
        },
        "id": "SbTB_Hu3U2NU",
        "outputId": "bb7cd244-a231-4b72-bf14-788a217deb3b"
      },
      "source": [
        "jsons = sorted(glob.glob(\"/content/data/key/*.json\"))\n",
        "len(jsons)"
      ],
      "execution_count": 6,
      "outputs": [
        {
          "output_type": "execute_result",
          "data": {
            "text/plain": [
              "626"
            ]
          },
          "metadata": {
            "tags": []
          },
          "execution_count": 6
        }
      ]
    },
    {
      "cell_type": "code",
      "metadata": {
        "id": "wY6xRkEjVYou",
        "colab": {
          "base_uri": "https://localhost:8080/",
          "height": 35
        },
        "outputId": "b6b93a24-3953-4057-de35-4b30b7223e6b"
      },
      "source": [
        "csvs[0]"
      ],
      "execution_count": 7,
      "outputs": [
        {
          "output_type": "execute_result",
          "data": {
            "application/vnd.google.colaboratory.intrinsic+json": {
              "type": "string"
            },
            "text/plain": [
              "'/content/data/box/000.csv'"
            ]
          },
          "metadata": {
            "tags": []
          },
          "execution_count": 7
        }
      ]
    },
    {
      "cell_type": "code",
      "metadata": {
        "colab": {
          "base_uri": "https://localhost:8080/",
          "height": 204
        },
        "id": "CThwPFFoVL8x",
        "outputId": "2db62d39-2525-4643-ae08-28cef1633a39"
      },
      "source": [
        "sample_csv = pd.read_csv(csvs[0], names=[\"x1_1\", \"y1_1\", \"x2_1\", \"y2_1\", \n",
        "                                         \"x3_1\", \"y3_1\", \"x4_1\", \"y4_1\", \"transcript\"])\n",
        "sample_csv.head()"
      ],
      "execution_count": 14,
      "outputs": [
        {
          "output_type": "execute_result",
          "data": {
            "text/html": [
              "<div>\n",
              "<style scoped>\n",
              "    .dataframe tbody tr th:only-of-type {\n",
              "        vertical-align: middle;\n",
              "    }\n",
              "\n",
              "    .dataframe tbody tr th {\n",
              "        vertical-align: top;\n",
              "    }\n",
              "\n",
              "    .dataframe thead th {\n",
              "        text-align: right;\n",
              "    }\n",
              "</style>\n",
              "<table border=\"1\" class=\"dataframe\">\n",
              "  <thead>\n",
              "    <tr style=\"text-align: right;\">\n",
              "      <th></th>\n",
              "      <th>x1_1</th>\n",
              "      <th>y1_1</th>\n",
              "      <th>x2_1</th>\n",
              "      <th>y2_1</th>\n",
              "      <th>x3_1</th>\n",
              "      <th>y3_1</th>\n",
              "      <th>x4_1</th>\n",
              "      <th>y4_1</th>\n",
              "      <th>transcript</th>\n",
              "    </tr>\n",
              "  </thead>\n",
              "  <tbody>\n",
              "    <tr>\n",
              "      <th>0</th>\n",
              "      <td>72</td>\n",
              "      <td>25</td>\n",
              "      <td>326</td>\n",
              "      <td>25</td>\n",
              "      <td>326</td>\n",
              "      <td>64</td>\n",
              "      <td>72</td>\n",
              "      <td>64</td>\n",
              "      <td>TAN WOON YANN</td>\n",
              "    </tr>\n",
              "    <tr>\n",
              "      <th>1</th>\n",
              "      <td>50</td>\n",
              "      <td>82</td>\n",
              "      <td>440</td>\n",
              "      <td>82</td>\n",
              "      <td>440</td>\n",
              "      <td>121</td>\n",
              "      <td>50</td>\n",
              "      <td>121</td>\n",
              "      <td>BOOK TA .K(TAMAN DAYA) SDN BND</td>\n",
              "    </tr>\n",
              "    <tr>\n",
              "      <th>2</th>\n",
              "      <td>205</td>\n",
              "      <td>121</td>\n",
              "      <td>285</td>\n",
              "      <td>121</td>\n",
              "      <td>285</td>\n",
              "      <td>139</td>\n",
              "      <td>205</td>\n",
              "      <td>139</td>\n",
              "      <td>789417-W</td>\n",
              "    </tr>\n",
              "    <tr>\n",
              "      <th>3</th>\n",
              "      <td>110</td>\n",
              "      <td>144</td>\n",
              "      <td>383</td>\n",
              "      <td>144</td>\n",
              "      <td>383</td>\n",
              "      <td>163</td>\n",
              "      <td>110</td>\n",
              "      <td>163</td>\n",
              "      <td>NO.53 55</td>\n",
              "    </tr>\n",
              "    <tr>\n",
              "      <th>4</th>\n",
              "      <td>192</td>\n",
              "      <td>169</td>\n",
              "      <td>299</td>\n",
              "      <td>169</td>\n",
              "      <td>299</td>\n",
              "      <td>187</td>\n",
              "      <td>192</td>\n",
              "      <td>187</td>\n",
              "      <td>TAMAN DAYA</td>\n",
              "    </tr>\n",
              "  </tbody>\n",
              "</table>\n",
              "</div>"
            ],
            "text/plain": [
              "   x1_1  y1_1  x2_1  y2_1  ...  y3_1  x4_1  y4_1                      transcript\n",
              "0    72    25   326    25  ...    64    72    64                   TAN WOON YANN\n",
              "1    50    82   440    82  ...   121    50   121  BOOK TA .K(TAMAN DAYA) SDN BND\n",
              "2   205   121   285   121  ...   139   205   139                        789417-W\n",
              "3   110   144   383   144  ...   163   110   163                        NO.53 55\n",
              "4   192   169   299   169  ...   187   192   187                      TAMAN DAYA\n",
              "\n",
              "[5 rows x 9 columns]"
            ]
          },
          "metadata": {
            "tags": []
          },
          "execution_count": 14
        }
      ]
    },
    {
      "cell_type": "code",
      "metadata": {
        "id": "hSJOkWFgNLQy",
        "outputId": "a0347bd5-522c-4e90-abe1-89ad016fd597",
        "colab": {
          "base_uri": "https://localhost:8080/"
        }
      },
      "source": [
        "!pip install -q dateparser\n",
        "import dateparser"
      ],
      "execution_count": 9,
      "outputs": [
        {
          "output_type": "stream",
          "text": [
            "\u001b[?25l\r\u001b[K     |█▏                              | 10kB 15.1MB/s eta 0:00:01\r\u001b[K     |██▍                             | 20kB 9.8MB/s eta 0:00:01\r\u001b[K     |███▌                            | 30kB 5.6MB/s eta 0:00:01\r\u001b[K     |████▊                           | 40kB 4.8MB/s eta 0:00:01\r\u001b[K     |█████▉                          | 51kB 4.3MB/s eta 0:00:01\r\u001b[K     |███████                         | 61kB 4.7MB/s eta 0:00:01\r\u001b[K     |████████▏                       | 71kB 4.7MB/s eta 0:00:01\r\u001b[K     |█████████▍                      | 81kB 4.7MB/s eta 0:00:01\r\u001b[K     |██████████▌                     | 92kB 4.9MB/s eta 0:00:01\r\u001b[K     |███████████▊                    | 102kB 4.1MB/s eta 0:00:01\r\u001b[K     |████████████▉                   | 112kB 4.1MB/s eta 0:00:01\r\u001b[K     |██████████████                  | 122kB 4.1MB/s eta 0:00:01\r\u001b[K     |███████████████▏                | 133kB 4.1MB/s eta 0:00:01\r\u001b[K     |████████████████▍               | 143kB 4.1MB/s eta 0:00:01\r\u001b[K     |█████████████████▋              | 153kB 4.1MB/s eta 0:00:01\r\u001b[K     |██████████████████▊             | 163kB 4.1MB/s eta 0:00:01\r\u001b[K     |████████████████████            | 174kB 4.1MB/s eta 0:00:01\r\u001b[K     |█████████████████████           | 184kB 4.1MB/s eta 0:00:01\r\u001b[K     |██████████████████████▎         | 194kB 4.1MB/s eta 0:00:01\r\u001b[K     |███████████████████████▍        | 204kB 4.1MB/s eta 0:00:01\r\u001b[K     |████████████████████████▋       | 215kB 4.1MB/s eta 0:00:01\r\u001b[K     |█████████████████████████▊      | 225kB 4.1MB/s eta 0:00:01\r\u001b[K     |███████████████████████████     | 235kB 4.1MB/s eta 0:00:01\r\u001b[K     |████████████████████████████    | 245kB 4.1MB/s eta 0:00:01\r\u001b[K     |█████████████████████████████▎  | 256kB 4.1MB/s eta 0:00:01\r\u001b[K     |██████████████████████████████▍ | 266kB 4.1MB/s eta 0:00:01\r\u001b[K     |███████████████████████████████▋| 276kB 4.1MB/s eta 0:00:01\r\u001b[K     |████████████████████████████████| 286kB 4.1MB/s \n",
            "\u001b[?25h"
          ],
          "name": "stdout"
        }
      ]
    },
    {
      "cell_type": "code",
      "metadata": {
        "id": "-an6tdYxNL7V",
        "colab": {
          "base_uri": "https://localhost:8080/",
          "height": 204
        },
        "outputId": "71749fd4-73c2-4096-be9a-15f3639a42b9"
      },
      "source": [
        "def parse_dates(row):\n",
        "    return dateparser.parse(row, settings={'STRICT_PARSING': True, \n",
        "                                           'REQUIRE_PARTS': ['day', 'month', 'year']})\n",
        "\n",
        "sample_csv[\"date_candidate\"] = sample_csv[\"transcript\"].apply(parse_dates)\n",
        "sample_csv[\"date_candidate\"] = pd.to_datetime(sample_csv['date_candidate'], errors = 'coerce').dt.date\n",
        "sample_csv.sample(5)"
      ],
      "execution_count": 15,
      "outputs": [
        {
          "output_type": "execute_result",
          "data": {
            "text/html": [
              "<div>\n",
              "<style scoped>\n",
              "    .dataframe tbody tr th:only-of-type {\n",
              "        vertical-align: middle;\n",
              "    }\n",
              "\n",
              "    .dataframe tbody tr th {\n",
              "        vertical-align: top;\n",
              "    }\n",
              "\n",
              "    .dataframe thead th {\n",
              "        text-align: right;\n",
              "    }\n",
              "</style>\n",
              "<table border=\"1\" class=\"dataframe\">\n",
              "  <thead>\n",
              "    <tr style=\"text-align: right;\">\n",
              "      <th></th>\n",
              "      <th>x1_1</th>\n",
              "      <th>y1_1</th>\n",
              "      <th>x2_1</th>\n",
              "      <th>y2_1</th>\n",
              "      <th>x3_1</th>\n",
              "      <th>y3_1</th>\n",
              "      <th>x4_1</th>\n",
              "      <th>y4_1</th>\n",
              "      <th>transcript</th>\n",
              "      <th>date_candidate</th>\n",
              "    </tr>\n",
              "  </thead>\n",
              "  <tbody>\n",
              "    <tr>\n",
              "      <th>39</th>\n",
              "      <td>142</td>\n",
              "      <td>883</td>\n",
              "      <td>353</td>\n",
              "      <td>883</td>\n",
              "      <td>353</td>\n",
              "      <td>901</td>\n",
              "      <td>142</td>\n",
              "      <td>901</td>\n",
              "      <td>***</td>\n",
              "      <td>NaT</td>\n",
              "    </tr>\n",
              "    <tr>\n",
              "      <th>42</th>\n",
              "      <td>163</td>\n",
              "      <td>962</td>\n",
              "      <td>330</td>\n",
              "      <td>962</td>\n",
              "      <td>330</td>\n",
              "      <td>977</td>\n",
              "      <td>163</td>\n",
              "      <td>977</td>\n",
              "      <td>PLEASE COME AGAIN !</td>\n",
              "      <td>NaT</td>\n",
              "    </tr>\n",
              "    <tr>\n",
              "      <th>19</th>\n",
              "      <td>221</td>\n",
              "      <td>531</td>\n",
              "      <td>247</td>\n",
              "      <td>531</td>\n",
              "      <td>247</td>\n",
              "      <td>545</td>\n",
              "      <td>221</td>\n",
              "      <td>545</td>\n",
              "      <td>RM</td>\n",
              "      <td>NaT</td>\n",
              "    </tr>\n",
              "    <tr>\n",
              "      <th>25</th>\n",
              "      <td>202</td>\n",
              "      <td>597</td>\n",
              "      <td>245</td>\n",
              "      <td>597</td>\n",
              "      <td>245</td>\n",
              "      <td>612</td>\n",
              "      <td>202</td>\n",
              "      <td>612</td>\n",
              "      <td>9.000</td>\n",
              "      <td>NaT</td>\n",
              "    </tr>\n",
              "    <tr>\n",
              "      <th>17</th>\n",
              "      <td>374</td>\n",
              "      <td>507</td>\n",
              "      <td>441</td>\n",
              "      <td>507</td>\n",
              "      <td>441</td>\n",
              "      <td>521</td>\n",
              "      <td>374</td>\n",
              "      <td>521</td>\n",
              "      <td>AMOUNT</td>\n",
              "      <td>NaT</td>\n",
              "    </tr>\n",
              "  </tbody>\n",
              "</table>\n",
              "</div>"
            ],
            "text/plain": [
              "    x1_1  y1_1  x2_1  y2_1  ...  x4_1  y4_1           transcript  date_candidate\n",
              "39   142   883   353   883  ...   142   901                  ***             NaT\n",
              "42   163   962   330   962  ...   163   977  PLEASE COME AGAIN !             NaT\n",
              "19   221   531   247   531  ...   221   545                   RM             NaT\n",
              "25   202   597   245   597  ...   202   612                9.000             NaT\n",
              "17   374   507   441   507  ...   374   521               AMOUNT             NaT\n",
              "\n",
              "[5 rows x 10 columns]"
            ]
          },
          "metadata": {
            "tags": []
          },
          "execution_count": 15
        }
      ]
    },
    {
      "cell_type": "code",
      "metadata": {
        "id": "irtP_gS2VanO",
        "colab": {
          "base_uri": "https://localhost:8080/",
          "height": 204
        },
        "outputId": "0b157972-8020-4c09-e09f-157d8c80a0ad"
      },
      "source": [
        "sample_csv[\"total_candidate\"] = pd.to_numeric(sample_csv[\"transcript\"], errors=\"coerce\")\n",
        "sample_csv.sample(5)"
      ],
      "execution_count": 16,
      "outputs": [
        {
          "output_type": "execute_result",
          "data": {
            "text/html": [
              "<div>\n",
              "<style scoped>\n",
              "    .dataframe tbody tr th:only-of-type {\n",
              "        vertical-align: middle;\n",
              "    }\n",
              "\n",
              "    .dataframe tbody tr th {\n",
              "        vertical-align: top;\n",
              "    }\n",
              "\n",
              "    .dataframe thead th {\n",
              "        text-align: right;\n",
              "    }\n",
              "</style>\n",
              "<table border=\"1\" class=\"dataframe\">\n",
              "  <thead>\n",
              "    <tr style=\"text-align: right;\">\n",
              "      <th></th>\n",
              "      <th>x1_1</th>\n",
              "      <th>y1_1</th>\n",
              "      <th>x2_1</th>\n",
              "      <th>y2_1</th>\n",
              "      <th>x3_1</th>\n",
              "      <th>y3_1</th>\n",
              "      <th>x4_1</th>\n",
              "      <th>y4_1</th>\n",
              "      <th>transcript</th>\n",
              "      <th>date_candidate</th>\n",
              "      <th>total_candidate</th>\n",
              "    </tr>\n",
              "  </thead>\n",
              "  <tbody>\n",
              "    <tr>\n",
              "      <th>42</th>\n",
              "      <td>163</td>\n",
              "      <td>962</td>\n",
              "      <td>330</td>\n",
              "      <td>962</td>\n",
              "      <td>330</td>\n",
              "      <td>977</td>\n",
              "      <td>163</td>\n",
              "      <td>977</td>\n",
              "      <td>PLEASE COME AGAIN !</td>\n",
              "      <td>NaT</td>\n",
              "      <td>nan</td>\n",
              "    </tr>\n",
              "    <tr>\n",
              "      <th>2</th>\n",
              "      <td>205</td>\n",
              "      <td>121</td>\n",
              "      <td>285</td>\n",
              "      <td>121</td>\n",
              "      <td>285</td>\n",
              "      <td>139</td>\n",
              "      <td>205</td>\n",
              "      <td>139</td>\n",
              "      <td>789417-W</td>\n",
              "      <td>NaT</td>\n",
              "      <td>nan</td>\n",
              "    </tr>\n",
              "    <tr>\n",
              "      <th>30</th>\n",
              "      <td>408</td>\n",
              "      <td>669</td>\n",
              "      <td>443</td>\n",
              "      <td>669</td>\n",
              "      <td>443</td>\n",
              "      <td>684</td>\n",
              "      <td>408</td>\n",
              "      <td>684</td>\n",
              "      <td>0.00</td>\n",
              "      <td>NaT</td>\n",
              "      <td>0.000</td>\n",
              "    </tr>\n",
              "    <tr>\n",
              "      <th>43</th>\n",
              "      <td>412</td>\n",
              "      <td>639</td>\n",
              "      <td>442</td>\n",
              "      <td>639</td>\n",
              "      <td>442</td>\n",
              "      <td>654</td>\n",
              "      <td>412</td>\n",
              "      <td>654</td>\n",
              "      <td>9.00</td>\n",
              "      <td>NaT</td>\n",
              "      <td>9.000</td>\n",
              "    </tr>\n",
              "    <tr>\n",
              "      <th>11</th>\n",
              "      <td>164</td>\n",
              "      <td>397</td>\n",
              "      <td>215</td>\n",
              "      <td>397</td>\n",
              "      <td>215</td>\n",
              "      <td>413</td>\n",
              "      <td>164</td>\n",
              "      <td>413</td>\n",
              "      <td>MANIS</td>\n",
              "      <td>NaT</td>\n",
              "      <td>nan</td>\n",
              "    </tr>\n",
              "  </tbody>\n",
              "</table>\n",
              "</div>"
            ],
            "text/plain": [
              "    x1_1  y1_1  x2_1  ...           transcript  date_candidate  total_candidate\n",
              "42   163   962   330  ...  PLEASE COME AGAIN !             NaT              nan\n",
              "2    205   121   285  ...             789417-W             NaT              nan\n",
              "30   408   669   443  ...                 0.00             NaT            0.000\n",
              "43   412   639   442  ...                 9.00             NaT            9.000\n",
              "11   164   397   215  ...                MANIS             NaT              nan\n",
              "\n",
              "[5 rows x 11 columns]"
            ]
          },
          "metadata": {
            "tags": []
          },
          "execution_count": 16
        }
      ]
    },
    {
      "cell_type": "code",
      "metadata": {
        "id": "w8lE7Jae87wR"
      },
      "source": [
        "temp = np.array([False]*sample_csv.shape[0])\n",
        "for idx, row in sample_csv.iterrows():\n",
        "  text = str(row['transcript']).replace(':', '').lower()\n",
        "  if text in ['total', 'amount', 'balance']:\n",
        "    temp[idx-2:idx+10] = True\n",
        "sample_csv['total_check'] = temp"
      ],
      "execution_count": 17,
      "outputs": []
    },
    {
      "cell_type": "code",
      "metadata": {
        "id": "WCWOc7JMXyWR",
        "colab": {
          "base_uri": "https://localhost:8080/",
          "height": 328
        },
        "outputId": "bb363079-1c60-48ee-f236-e778d5f9cfba"
      },
      "source": [
        "sample_csv_filtered = sample_csv[(~sample_csv['date_candidate'].isnull()) | (~sample_csv['total_candidate'].isnull() & sample_csv['total_check'])]\n",
        "sample_csv_filtered"
      ],
      "execution_count": 21,
      "outputs": [
        {
          "output_type": "execute_result",
          "data": {
            "text/html": [
              "<div>\n",
              "<style scoped>\n",
              "    .dataframe tbody tr th:only-of-type {\n",
              "        vertical-align: middle;\n",
              "    }\n",
              "\n",
              "    .dataframe tbody tr th {\n",
              "        vertical-align: top;\n",
              "    }\n",
              "\n",
              "    .dataframe thead th {\n",
              "        text-align: right;\n",
              "    }\n",
              "</style>\n",
              "<table border=\"1\" class=\"dataframe\">\n",
              "  <thead>\n",
              "    <tr style=\"text-align: right;\">\n",
              "      <th></th>\n",
              "      <th>x1_1</th>\n",
              "      <th>y1_1</th>\n",
              "      <th>x2_1</th>\n",
              "      <th>y2_1</th>\n",
              "      <th>x3_1</th>\n",
              "      <th>y3_1</th>\n",
              "      <th>x4_1</th>\n",
              "      <th>y4_1</th>\n",
              "      <th>transcript</th>\n",
              "      <th>date_candidate</th>\n",
              "      <th>total_candidate</th>\n",
              "      <th>total_check</th>\n",
              "    </tr>\n",
              "  </thead>\n",
              "  <tbody>\n",
              "    <tr>\n",
              "      <th>9</th>\n",
              "      <td>165</td>\n",
              "      <td>372</td>\n",
              "      <td>342</td>\n",
              "      <td>372</td>\n",
              "      <td>342</td>\n",
              "      <td>389</td>\n",
              "      <td>165</td>\n",
              "      <td>389</td>\n",
              "      <td>25/12/2018 8:13:39 PM</td>\n",
              "      <td>2018-12-25</td>\n",
              "      <td>nan</td>\n",
              "      <td>False</td>\n",
              "    </tr>\n",
              "    <tr>\n",
              "      <th>21</th>\n",
              "      <td>27</td>\n",
              "      <td>570</td>\n",
              "      <td>137</td>\n",
              "      <td>570</td>\n",
              "      <td>137</td>\n",
              "      <td>583</td>\n",
              "      <td>27</td>\n",
              "      <td>583</td>\n",
              "      <td>9556939040116</td>\n",
              "      <td>NaT</td>\n",
              "      <td>9556939040116.000</td>\n",
              "      <td>True</td>\n",
              "    </tr>\n",
              "    <tr>\n",
              "      <th>25</th>\n",
              "      <td>202</td>\n",
              "      <td>597</td>\n",
              "      <td>245</td>\n",
              "      <td>597</td>\n",
              "      <td>245</td>\n",
              "      <td>612</td>\n",
              "      <td>202</td>\n",
              "      <td>612</td>\n",
              "      <td>9.000</td>\n",
              "      <td>NaT</td>\n",
              "      <td>9.000</td>\n",
              "      <td>True</td>\n",
              "    </tr>\n",
              "    <tr>\n",
              "      <th>26</th>\n",
              "      <td>275</td>\n",
              "      <td>598</td>\n",
              "      <td>309</td>\n",
              "      <td>598</td>\n",
              "      <td>309</td>\n",
              "      <td>612</td>\n",
              "      <td>275</td>\n",
              "      <td>612</td>\n",
              "      <td>0.00</td>\n",
              "      <td>NaT</td>\n",
              "      <td>0.000</td>\n",
              "      <td>True</td>\n",
              "    </tr>\n",
              "    <tr>\n",
              "      <th>27</th>\n",
              "      <td>411</td>\n",
              "      <td>596</td>\n",
              "      <td>443</td>\n",
              "      <td>596</td>\n",
              "      <td>443</td>\n",
              "      <td>613</td>\n",
              "      <td>411</td>\n",
              "      <td>613</td>\n",
              "      <td>9.00</td>\n",
              "      <td>NaT</td>\n",
              "      <td>9.000</td>\n",
              "      <td>True</td>\n",
              "    </tr>\n",
              "    <tr>\n",
              "      <th>30</th>\n",
              "      <td>408</td>\n",
              "      <td>669</td>\n",
              "      <td>443</td>\n",
              "      <td>669</td>\n",
              "      <td>443</td>\n",
              "      <td>684</td>\n",
              "      <td>408</td>\n",
              "      <td>684</td>\n",
              "      <td>0.00</td>\n",
              "      <td>NaT</td>\n",
              "      <td>0.000</td>\n",
              "      <td>True</td>\n",
              "    </tr>\n",
              "    <tr>\n",
              "      <th>32</th>\n",
              "      <td>401</td>\n",
              "      <td>703</td>\n",
              "      <td>443</td>\n",
              "      <td>703</td>\n",
              "      <td>443</td>\n",
              "      <td>719</td>\n",
              "      <td>401</td>\n",
              "      <td>719</td>\n",
              "      <td>9.00</td>\n",
              "      <td>NaT</td>\n",
              "      <td>9.000</td>\n",
              "      <td>True</td>\n",
              "    </tr>\n",
              "    <tr>\n",
              "      <th>34</th>\n",
              "      <td>402</td>\n",
              "      <td>748</td>\n",
              "      <td>441</td>\n",
              "      <td>748</td>\n",
              "      <td>441</td>\n",
              "      <td>763</td>\n",
              "      <td>402</td>\n",
              "      <td>763</td>\n",
              "      <td>10.00</td>\n",
              "      <td>NaT</td>\n",
              "      <td>10.000</td>\n",
              "      <td>True</td>\n",
              "    </tr>\n",
              "    <tr>\n",
              "      <th>36</th>\n",
              "      <td>412</td>\n",
              "      <td>772</td>\n",
              "      <td>443</td>\n",
              "      <td>772</td>\n",
              "      <td>443</td>\n",
              "      <td>786</td>\n",
              "      <td>412</td>\n",
              "      <td>786</td>\n",
              "      <td>1.00</td>\n",
              "      <td>NaT</td>\n",
              "      <td>1.000</td>\n",
              "      <td>True</td>\n",
              "    </tr>\n",
              "  </tbody>\n",
              "</table>\n",
              "</div>"
            ],
            "text/plain": [
              "    x1_1  y1_1  x2_1  ...  date_candidate   total_candidate  total_check\n",
              "9    165   372   342  ...      2018-12-25               nan        False\n",
              "21    27   570   137  ...             NaT 9556939040116.000         True\n",
              "25   202   597   245  ...             NaT             9.000         True\n",
              "26   275   598   309  ...             NaT             0.000         True\n",
              "27   411   596   443  ...             NaT             9.000         True\n",
              "30   408   669   443  ...             NaT             0.000         True\n",
              "32   401   703   443  ...             NaT             9.000         True\n",
              "34   402   748   441  ...             NaT            10.000         True\n",
              "36   412   772   443  ...             NaT             1.000         True\n",
              "\n",
              "[9 rows x 12 columns]"
            ]
          },
          "metadata": {
            "tags": []
          },
          "execution_count": 21
        }
      ]
    },
    {
      "cell_type": "code",
      "metadata": {
        "id": "dUxBPw3S_c1z"
      },
      "source": [
        ""
      ],
      "execution_count": null,
      "outputs": []
    }
  ]
}